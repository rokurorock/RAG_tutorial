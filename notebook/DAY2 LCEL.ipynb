{
 "cells": [
  {
   "cell_type": "markdown",
   "id": "de37d43e",
   "metadata": {},
   "source": [
    "# LCEL\n",
    "LCEL」(LangChain Expression Language)は、チェーンを簡単に記述するための宣言型の手法\n",
    "\n",
    "RetrievalQAをそのまま使うとチェーンが組みにくくて使いにくいので今後は基本的にLCELを使っていくことになります"
   ]
  },
  {
   "cell_type": "markdown",
   "id": "8ffdaee6",
   "metadata": {},
   "source": [
    "## 下準備"
   ]
  },
  {
   "cell_type": "code",
   "execution_count": 3,
   "id": "e632e374",
   "metadata": {},
   "outputs": [
    {
     "name": "stderr",
     "output_type": "stream",
     "text": [
      "/Users/rokuroyamaki/anaconda3/envs/llm/lib/python3.11/site-packages/langchain_core/_api/deprecation.py:117: LangChainDeprecationWarning: The class `langchain_community.embeddings.openai.OpenAIEmbeddings` was deprecated in langchain-community 0.1.0 and will be removed in 0.2.0. An updated version of the class exists in the langchain-openai package and should be used instead. To use it run `pip install -U langchain-openai` and import as `from langchain_openai import OpenAIEmbeddings`.\n",
      "  warn_deprecated(\n",
      "/Users/rokuroyamaki/anaconda3/envs/llm/lib/python3.11/site-packages/langchain_core/_api/deprecation.py:117: LangChainDeprecationWarning: The class `langchain_community.chat_models.openai.ChatOpenAI` was deprecated in langchain-community 0.0.10 and will be removed in 0.2.0. An updated version of the class exists in the langchain-openai package and should be used instead. To use it run `pip install -U langchain-openai` and import as `from langchain_openai import ChatOpenAI`.\n",
      "  warn_deprecated(\n"
     ]
    }
   ],
   "source": [
    "from langchain_community.document_loaders import DirectoryLoader\n",
    "from langchain.text_splitter import MarkdownHeaderTextSplitter,RecursiveCharacterTextSplitter\n",
    "from langchain.vectorstores import Chroma\n",
    "from langchain.embeddings.openai import OpenAIEmbeddings\n",
    "from langchain.prompts import PromptTemplate\n",
    "from langchain.chat_models import ChatOpenAI\n",
    "from langchain.chains import LLMChain\n",
    "\n",
    "#Document load\n",
    "loader = DirectoryLoader(\"../datasets/company_documents_dataset_1/\", glob=\"**/*.txt\",recursive=True)\n",
    "raw_docs = loader.load()\n",
    "\n",
    "# Document split\n",
    "headers_to_split_on = [\n",
    "    (\"#\", \"Header 1\"),\n",
    "    (\"##\", \"Header 2\"),\n",
    "    (\"###\", \"Header 3\"),\n",
    "]\n",
    "markdown_splitter = MarkdownHeaderTextSplitter(\n",
    "    headers_to_split_on=headers_to_split_on, \n",
    "    return_each_line=False,\n",
    "    strip_headers = False \n",
    ")\n",
    "docs = []\n",
    "for raw_doc in raw_docs:\n",
    "    source = raw_doc.metadata[\"source\"]\n",
    "    spilited_docs = markdown_splitter.split_text(raw_doc.page_content)\n",
    "    for doc in spilited_docs:\n",
    "        doc.metadata[\"source\"] = source#metadataにsourceを加える\n",
    "    docs = docs + spilited_docs\n",
    "markdown_splited_docs = docs\n",
    "text_splitter = RecursiveCharacterTextSplitter(chunk_size = 300,chunk_overlap=50)\n",
    "docs = text_splitter.split_documents(docs)\n",
    "\n",
    "# Embd\n",
    "vectorstore = Chroma.from_documents(persist_directory=\"./vecstore/index\", documents=docs, embedding=OpenAIEmbeddings())\n",
    "\n",
    "#llm\n",
    "llm = ChatOpenAI(model_name=\"gpt-3.5-turbo\",temperature=0)\n",
    "\n",
    "# retriever\n",
    "retriever = vectorstore.as_retriever(search_kwargs={\"k\": 4})\n",
    "\n",
    "# prompt\n",
    "prompt = PromptTemplate(\n",
    "    input_variables=[\"context\",\"question\"],\n",
    "    template=\"\"\"以下の参考用のテキストの一部を参照して、Questionに回答してください。もし参考用のテキストの中に回答に役立つ情報が含まれていなければ、分からない、と答えてください。\n",
    "{context}\n",
    "Question: {question}\n",
    "Answer: \"\"\"\n",
    ")"
   ]
  },
  {
   "cell_type": "markdown",
   "id": "38833eb1",
   "metadata": {},
   "source": [
    "## LCEL方式でチェーンを組む"
   ]
  },
  {
   "cell_type": "code",
   "execution_count": 4,
   "id": "4379554c",
   "metadata": {},
   "outputs": [
    {
     "data": {
      "text/plain": [
       "'漆黒 花太郎'"
      ]
     },
     "execution_count": 4,
     "metadata": {},
     "output_type": "execute_result"
    }
   ],
   "source": [
    "#chain\n",
    "from langchain_core.runnables import RunnablePassthrough, RunnableParallel\n",
    "from langchain_core.output_parsers import StrOutputParser\n",
    "rag_chain = (\n",
    "    {\n",
    "        \"question\":RunnablePassthrough(),#invokeで指定したtextが入る。\n",
    "        \"context\":retriever \n",
    "    }\n",
    "    |prompt\n",
    "    |llm\n",
    "    |StrOutputParser()\n",
    "  \n",
    ")\n",
    "question = \"社長の名前は？\"\n",
    "rag_chain.invoke(question)"
   ]
  },
  {
   "cell_type": "markdown",
   "id": "c6f2985c",
   "metadata": {},
   "source": [
    "## ドキュメント検索で使用したコンテキストを確認する"
   ]
  },
  {
   "cell_type": "code",
   "execution_count": 5,
   "id": "1c4fcfe8",
   "metadata": {},
   "outputs": [
    {
     "name": "stdout",
     "output_type": "stream",
     "text": [
      "[Document(page_content='### 社長  \\n漆黒 花太郎（しっこく かたろう）', metadata={'Header 1': '株式会社架空ブラック 会社情報', 'Header 2': '会社概要', 'Header 3': '社長', 'source': '../datasets/company_documents_dataset_1/マニュアル/会社情報.txt'}), Document(page_content='### 社長  \\n漆黒 花太郎（しっこく かたろう）', metadata={'Header 1': '株式会社架空ブラック 会社情報', 'Header 2': '会社概要', 'Header 3': '社長', 'source': '../datasets/company_documents_dataset_1/マニュアル/会社情報.txt'}), Document(page_content='## 社長のプロフィール  \\n### 名前  \\n漆黒 花太郎（しっこく かたろう）', metadata={'Header 1': '株式会社架空ブラック 会社情報', 'Header 2': '社長のプロフィール', 'Header 3': '名前', 'source': '../datasets/company_documents_dataset_1/マニュアル/会社情報.txt'}), Document(page_content='## 社長のプロフィール  \\n### 名前  \\n漆黒 花太郎（しっこく かたろう）', metadata={'Header 1': '株式会社架空ブラック 会社情報', 'Header 2': '社長のプロフィール', 'Header 3': '名前', 'source': '../datasets/company_documents_dataset_1/マニュアル/会社情報.txt'})]\n"
     ]
    }
   ],
   "source": [
    "question = \"社長の名前は？\"\n",
    "print(retriever.invoke(question))"
   ]
  },
  {
   "cell_type": "markdown",
   "id": "bebe24e5",
   "metadata": {},
   "source": [
    "## Chainを可視化する"
   ]
  },
  {
   "cell_type": "code",
   "execution_count": 6,
   "id": "7a4035d3",
   "metadata": {},
   "outputs": [
    {
     "name": "stdout",
     "output_type": "stream",
     "text": [
      "       +---------------------------------+             \n",
      "       | Parallel<question,context>Input |             \n",
      "       +---------------------------------+             \n",
      "               **               **                     \n",
      "            ***                   ***                  \n",
      "          **                         **                \n",
      "+-------------+              +----------------------+  \n",
      "| Passthrough |              | VectorStoreRetriever |  \n",
      "+-------------+              +----------------------+  \n",
      "               **               **                     \n",
      "                 ***         ***                       \n",
      "                    **     **                          \n",
      "      +----------------------------------+             \n",
      "      | Parallel<question,context>Output |             \n",
      "      +----------------------------------+             \n",
      "                        *                              \n",
      "                        *                              \n",
      "                        *                              \n",
      "               +----------------+                      \n",
      "               | PromptTemplate |                      \n",
      "               +----------------+                      \n",
      "                        *                              \n",
      "                        *                              \n",
      "                        *                              \n",
      "                 +------------+                        \n",
      "                 | ChatOpenAI |                        \n",
      "                 +------------+                        \n",
      "                        *                              \n",
      "                        *                              \n",
      "                        *                              \n",
      "               +-----------------+                     \n",
      "               | StrOutputParser |                     \n",
      "               +-----------------+                     \n",
      "                        *                              \n",
      "                        *                              \n",
      "                        *                              \n",
      "            +-----------------------+                  \n",
      "            | StrOutputParserOutput |                  \n",
      "            +-----------------------+                  \n"
     ]
    }
   ],
   "source": [
    "rag_chain.get_graph().print_ascii()"
   ]
  },
  {
   "cell_type": "code",
   "execution_count": null,
   "id": "cb8a90fa",
   "metadata": {},
   "outputs": [],
   "source": []
  }
 ],
 "metadata": {
  "kernelspec": {
   "display_name": "Python 3 (ipykernel)",
   "language": "python",
   "name": "python3"
  },
  "language_info": {
   "codemirror_mode": {
    "name": "ipython",
    "version": 3
   },
   "file_extension": ".py",
   "mimetype": "text/x-python",
   "name": "python",
   "nbconvert_exporter": "python",
   "pygments_lexer": "ipython3",
   "version": "3.11.7"
  }
 },
 "nbformat": 4,
 "nbformat_minor": 5
}
